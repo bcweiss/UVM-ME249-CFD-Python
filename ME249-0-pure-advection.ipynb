{
 "cells": [
  {
   "cell_type": "raw",
   "metadata": {},
   "source": [
    "Text provided under a Creative Commons Attribution license, CC-BY. All code is made available under the FSF-approved MIT license. (c) Yves Dubief, 2015. NSF for support via NSF-CBET award #1258697."
   ]
  },
  {
   "cell_type": "code",
   "execution_count": null,
   "metadata": {
    "collapsed": true
   },
   "outputs": [],
   "source": [
    "%matplotlib inline \n",
    "# plots graphs within the notebook\n",
    "%config InlineBackend.figure_format='svg' # not sure what this does, may be default images to svg format\n",
    "\n",
    "from IPython.display import display,Image, Latex\n",
    "from __future__ import division\n",
    "from sympy.interactive import printing\n",
    "printing.init_printing(use_latex='mathjax')\n",
    "from IPython.display import clear_output\n",
    "\n",
    "import time\n",
    "\n",
    "from IPython.display import display,Image, Latex\n",
    "\n",
    "from IPython.display import clear_output\n",
    "\n",
    "\n",
    "import matplotlib.pyplot as plt\n",
    "import numpy as np\n",
    "import math\n",
    "import scipy.constants as sc\n",
    "import h5py\n",
    "\n",
    "import sympy as sym\n",
    "\n",
    "    \n",
    "font = {'family' : 'serif',\n",
    "        #'color'  : 'black',\n",
    "        'weight' : 'normal',\n",
    "        'size'   : 12,\n",
    "        }\n",
    "fontlabel = {'family' : 'serif',\n",
    "        #'color'  : 'black',\n",
    "        'weight' : 'normal',\n",
    "        'size'   : 16,\n",
    "        }\n",
    "\n",
    "from matplotlib.ticker import FormatStrFormatter\n",
    "plt.rc('font', **font)\n",
    "\n",
    "class PDF(object):\n",
    "  def __init__(self, pdf, size=(200,200)):\n",
    "    self.pdf = pdf\n",
    "    self.size = size\n",
    "\n",
    "  def _repr_html_(self):\n",
    "    return '<iframe src={0} width={1[0]} height={1[1]}></iframe>'.format(self.pdf, self.size)\n",
    "\n",
    "  def _repr_latex_(self):\n",
    "    return r'\\includegraphics[width=1.0\\textwidth]{{{0}}}'.format(self.pdf)\n",
    "\n",
    "class ListTable(list):\n",
    "    \"\"\" Overridden list class which takes a 2-dimensional list of \n",
    "        the form [[1,2,3],[4,5,6]], and renders an HTML Table in \n",
    "        IPython Notebook. \"\"\"\n",
    "    \n",
    "    def _repr_html_(self):\n",
    "        html = [\"<table>\"]\n",
    "        for row in self:\n",
    "            html.append(\"<tr>\")\n",
    "            \n",
    "            for col in row:\n",
    "                html.append(\"<td>{0}</td>\".format(col))\n",
    "            \n",
    "            html.append(\"</tr>\")\n",
    "        html.append(\"</table>\")\n",
    "        return ''.join(html)\n",
    "    "
   ]
  },
  {
   "cell_type": "markdown",
   "metadata": {},
   "source": [
    "<h1>Derivation of 1D Transport Equation</h1>\n",
    "\n",
    "<h2>1D Transport Without Diffusion</h2>\n",
    "\n",
    "Consider a small control surface (cell) of dimensions $\\Delta x\\times\\Delta y$ within which, we know the velocities on the surfaces $u_{i\\pm\\frac{1}{2},j}$ and $v_{i,j\\pm\\frac{1}{2}}$ and a quantity $\\phi_{i,j}$ at the center of the cell. This quantity may be temperature, or the concentration of chemical specie. The variation in time of $\\phi$ within the cell is equal to the amount of $\\phi$ that is flowing in and out of the cell through the boundaries of cell. The velocity vector is defined as\n",
    "\n",
    "$$\n",
    "\\vec{u}=u\\vec{e}_x+v\\vec{e}_y\n",
    "$$\n",
    "\n",
    "The fluxes of $\\phi$ across the right-hand-side and left-hand-side vertical boundaries are, respectively:\n",
    "\n",
    "$$\n",
    "\\int_{S_{i+1/2,j}}\\phi(\\vec{u}_{i+\\frac{1}{2},j}\\cdot\\vec{n}_{i+\\frac{1}{2},j})dy\\text{ and }\\int_{S_{i-1/2,j}}\\phi(\\vec{u}_{i-\\frac{1}{2},j}\\cdot\\vec{n}_{i+\\frac{1}{2},j})dy\n",
    "$$\n",
    "\n",
    "In the configuration depicted in Figure 1, the mass or heat variation is equal to the flux of $\\phi$ entering the cell minus the flux exiting the cell, or:\n",
    "$$\n",
    "-\\phi_{i+\\frac{1}{2},j}u_{i+\\frac{1}{2},j}\\Delta y + \\phi_{i-\\frac{1}{2},j}u_{i-\\frac{1}{2},j}\\Delta y \\text{, when $\\Delta y\\rightarrow 0$}\n",
    "$$\n",
    "\n",
    "Assuming that there is no vertical velocity ($v=0$), this sum is equal to the variation of $\\phi$ within the cell,\n",
    "\n",
    "$$\n",
    "\\frac{\\partial}{\\partial t}\\iint_{V_{i,j}}\\phi dxdy\\approx\\frac{\\partial \\phi_{i,j}}{\\partial t}\\Delta x\\Delta y \\text{, when $\\Delta x\\rightarrow 0$ and $\\Delta y\\rightarrow 0$}\n",
    "$$\n",
    "\n",
    "yielding\n",
    "\n",
    "$$\n",
    "\\frac{\\partial \\phi_{i,j}}{\\partial t}\\Delta x\\Delta y=-\\phi_{i+\\frac{1}{2},j}u_{i+\\frac{1}{2},j}\\Delta y + \\phi_{i-\\frac{1}{2},j}u_{i-\\frac{1}{2},j}\\Delta y\\;,\n",
    "$$\n",
    "\n",
    "reducing to\n",
    "\n",
    "$$\n",
    "\\frac{\\partial \\phi_{i,j}}{\\partial t}=-\\frac{\\phi_{i+\\frac{1}{2},j}u_{i+\\frac{1}{2},j} - \\phi_{i-\\frac{1}{2},j}u_{i-\\frac{1}{2},j}}{\\Delta x}\\;.\n",
    "$$\n",
    "\n",
    "In the limit of $\\Delta x\\rightarrow 0$, we obtain the conservative form of the pure advection equation:\n",
    "<p class='alert alert-danger'>\n",
    "$$\n",
    "\\frac{\\partial \\phi}{\\partial t}+\\frac{\\partial u\\phi}{\\partial x}=0\n",
    "$$\n",
    "</p>"
   ]
  },
  {
   "cell_type": "code",
   "execution_count": null,
   "metadata": {
    "collapsed": false
   },
   "outputs": [],
   "source": [
    "PDF('Figures/Staggered-grid-2D.pdf',size=(600,500))"
   ]
  },
  {
   "cell_type": "markdown",
   "metadata": {},
   "source": [
    "Figure 1. Sketch of a cell (top left) with the horizontal (red) and vertical (green) velocity nodes and the cell-centered node (blue). Definition of the normal vector to \"surface\" (segment) $S_{i+\\frac{1}{2},j}$ and $S_{i,j+\\frac{1}{2}}$ (top right). Sketch of uniform grid (bottom)."
   ]
  },
  {
   "cell_type": "markdown",
   "metadata": {},
   "source": [
    "<h2>1.2 Coding the Pure Advection Equation</h2>\n",
    "The following takes you through the steps to solve numerically the pure advection equation with python. The boundary conditions are (all variables are non-dimensional):\n",
    "<ol>\n",
    "<li> Length of the domain: $0\\leq x\\leq L$ and $L=1\\pi$ </li>\n",
    "<li> Constant velocity $u_0=1$\n",
    "<li> Periodicity is imposed $\\phi(0,t) = \\phi(L,t)$</li>\n",
    "<li> Initial condition: \n",
    "$$\\phi(x,t=0)=\\begin{cases}\n",
    "1+\\cos\\left(2\\pi\\left(x-\\frac{L}{2}\\right)\\right)&,\\text{ for }\\left\\vert x-\\frac{L}{2}\\right\\vert\\leq\\frac{r}{2}\\\\\n",
    "0&,\\text{ for }\\left\\vert x-\\frac{L}{2}\\right\\vert>\\frac{r}{2}\n",
    "\\end{cases}\n",
    "$$\n",
    "</li>\n",
    "</ol>\n",
    "\n",
    "Here you will <b>discretize</b> your domain in $N$ small control volumes, such that the size of each control volume is\n",
    "<p class='alert alert-danger'>\n",
    "$$\n",
    "\\Delta x = \\frac{L}{N}\n",
    "$$\n",
    "</p>\n",
    "You will simulate the system defined so far of a time $T$, to be decided, discretized by small time-steps\n",
    "<p class='alert alert-danger'>\n",
    "$$\n",
    "\\Delta t = \\frac{T}{N_t}\n",
    "$$\n",
    "</p>\n",
    "\n",
    "We adopt the following index convention:\n",
    "<ul>\n",
    "<li> Each cell is labeled by a unique integer $i$ with $i\\in[0,N-1]$. This is a python convention that vector and matrices start with index 0, instead of 1 for matlab.</li>\n",
    "<li> A variable defined at the center of cell $i$ is noted with the subscript $i$: $\\phi_i$.</li>\n",
    "<li> A variable defined at the surface of cell $i$ is noted with the subscript $i\\pm1/2$: $\\phi_{i\\pm 1/2}$</li>\n",
    "<li> The solution $\\phi(x_i,t_n)$, where\n",
    "$$\n",
    "x_i = i+\\frac{\\Delta x}{2}\\text{ with $x\\in[0,N-1]$, and }t_n=n\\Delta t\\text{ with $n\\in[0,N_t]$,}\n",
    "$$</li>\n",
    "is noted $\\phi_i^n$.\n",
    "</ul>\n",
    "At first we will try to solve the advection equation with the following discretization:\n",
    "$$\n",
    "\\frac{\\phi_i^{n+1}-\\phi_i^n}{\\Delta t}\\Delta x\\Delta y=-\\left(\\phi_{i+\\frac{1}{2}}u_{i+\\frac{1}{2}} - \\phi_{i-\\frac{1}{2}}u_{i-\\frac{1}{2}}\\right){\\Delta y}\n",
    "$$\n",
    "or \n",
    "<p class='alert alert-danger'>\n",
    "$$\n",
    "\\phi_i^{n+1}=\\phi_i^n-\\frac{\\Delta t}{\\Delta x}\\left(\\phi^n_{i+\\frac{1}{2}}u_{i+\\frac{1}{2}} - \\phi^n_{i-\\frac{1}{2}}u_{i-\\frac{1}{2}}\\right)\n",
    "$$\n",
    "</p>\n",
    "The velocity $u$ is constant, therefore defined anywhere in the system (cell center or cell surfaces), however $\\phi$ is defined only at the cell center, requiring an interpolation at the cell surface $i\\pm 1/2$. For now you will consider a mid-point interpolation:\n",
    "<p class='alert alert-danger'>\n",
    "$$\n",
    "\\phi^n_{i+\\frac{1}{2}} = \\frac{\\phi^n_{i+1}+\\phi^n_i}{2}\n",
    "$$\n",
    "</p>\n",
    "Lastly, our governing equation can be recast with the flux of $\\phi$ across the surface $u$:\n",
    "<p class='alert alert-info'>\n",
    "$$\n",
    "F^n_{i\\pm\\frac{1}{2}}=\\phi^n_{i\\pm\\frac{1}{2}}u_{i\\pm\\frac{1}{2}}=\\frac{\\phi^n_{i\\pm 1}+\\phi^n_i}{2}u_{i\\pm\\frac{1}{2}}\n",
    "$$\n",
    "</p>\n",
    "yielding the equation you will attempt to solve:\n",
    "<p class='alert alert-danger'>\n",
    "$$\n",
    "\\phi_i^{n+1}=\\phi_i^n-\\frac{\\Delta t}{\\Delta x}\\left(F^n_{i+\\frac{1}{2}} - F^n_{i-\\frac{1}{2}}\\right)\n",
    "$$\n",
    "</p>"
   ]
  },
  {
   "cell_type": "markdown",
   "metadata": {},
   "source": [
    "<h1>Assignment</h1>\n",
    "<ol>\n",
    "<li>Write a code for second order interpolation and run the code for a time of $t_{max}=2$ (Try different number of cells and time increment). Write your observations.</li>\n",
    "<li>Write a code for first order left interpolation, run the code for the same time and write your observations.</li>\n",
    "<li>Write a code for first order right interpolation with $u_0=\\pm 1$, run the code for the same time and write your observations.</li>\n",
    "<li>Write a code for second order upwind interpolation, run the code for the same time and write your observations.</li>\n",
    "<li>Write a code for third order upwind interpolation, run the code for the same time and write your observations.</li>\n",
    "</ol>"
   ]
  },
  {
   "cell_type": "code",
   "execution_count": null,
   "metadata": {
    "collapsed": false
   },
   "outputs": [],
   "source": [
    "L = 1\n",
    "r = 0.5\n",
    "N = 100\n",
    "dx = L/N\n",
    "u_0 = 1.\n",
    "\n",
    "phi = np.zeros(N)\n",
    "F = np.zeros(N+1)\n",
    "u = u_0*np.ones(N+1)\n",
    "x_phi = np.linspace(dx/2.,L-dx/2.,N)\n",
    "x_u = np.linspace(0.,L,N+1)\n",
    "\n",
    "def exact_solution(t):\n",
    "    global u_0,x_phi,N\n",
    "    phi = np.zeros(N)\n",
    "    X = x_phi - u_0*t\n",
    "    X = np.mod(X,L)\n",
    "    phi = (1.+np.cos(2*np.pi*(X-L/2.)/r))/2.\n",
    "    xmask = np.where(np.abs(X-L/2.)/r > 1/2)\n",
    "    phi[xmask] = 0.\n",
    "    return phi\n",
    "\n",
    "plt.plot(x_phi,exact_solution(0.))"
   ]
  },
  {
   "cell_type": "code",
   "execution_count": null,
   "metadata": {
    "collapsed": false
   },
   "outputs": [],
   "source": [
    "from matplotlib import animation, rc\n",
    "from IPython.display import HTML\n",
    "# First set up the figure, the axis, and the plot element we want to animate\n",
    "fig, ax = plt.subplots()\n",
    "\n",
    "ax.set_xlim(( 0, L))\n",
    "ax.set_ylim((0, 1.5))\n",
    "\n",
    "line, = ax.plot([], [], lw=2)"
   ]
  },
  {
   "cell_type": "code",
   "execution_count": null,
   "metadata": {
    "collapsed": true
   },
   "outputs": [],
   "source": [
    "# initialization function: plot the background of each frame\n",
    "def init():\n",
    "    line.set_data([], [])\n",
    "    return (line,)"
   ]
  },
  {
   "cell_type": "code",
   "execution_count": null,
   "metadata": {
    "collapsed": true
   },
   "outputs": [],
   "source": [
    "# animation function. This is called sequentially\n",
    "tmax = 1.\n",
    "dt = 0.001\n",
    "Nt = np.int(tmax/dt)\n",
    "def animate(i):\n",
    "    line.set_data(x_phi, exact_solution(dt*i))\n",
    "    return (line,)"
   ]
  },
  {
   "cell_type": "code",
   "execution_count": null,
   "metadata": {
    "collapsed": false
   },
   "outputs": [],
   "source": [
    "from JSAnimation.IPython_display import display_animation\n",
    "from matplotlib import animation\n",
    "anim = animation.FuncAnimation(fig, animate, init_func=init,\n",
    "                               frames=Nt+1, interval=20, blit=True)\n",
    "\n",
    "# call our new function to display the animation\n",
    "display_animation(anim)"
   ]
  },
  {
   "cell_type": "code",
   "execution_count": null,
   "metadata": {
    "collapsed": false
   },
   "outputs": [],
   "source": [
    "L = 1\n",
    "r = 0.5\n",
    "N = 400\n",
    "dx = L/N\n",
    "u_0 = 1.\n",
    "\n",
    "phi = np.zeros(N)\n",
    "F = np.zeros(N+1)\n",
    "u = u_0*np.ones(N+1)\n",
    "x_phi = np.linspace(dx/2.,L-dx/2.,N)\n",
    "x_u = np.linspace(0.,L,N+1)\n",
    "\n",
    "def exact_solution(t):\n",
    "    global u_0,x_phi,N\n",
    "    phi = np.zeros(N)\n",
    "    X = x_phi - u_0*t\n",
    "    X = np.mod(X,L)\n",
    "    phi = (1.+np.cos(2*np.pi*(X-L/2.)/r))/2.\n",
    "    xmask = np.where(np.abs(X-L/2.)/r > 1/2)\n",
    "    phi[xmask] = 0.\n",
    "    return phi\n",
    "def interpolate_central_2nd(a):\n",
    "    N = len(a)\n",
    "    f=np.zeros(N+1)\n",
    "    f[1:N] = 0.5*(a[0:N-1]+a[1:N])\n",
    "    f[0] = 0.5*(a[-1] + a[0])\n",
    "    f[-1] = f[0]\n",
    "    return f\n",
    "\n",
    "def interpolate_central_1st(a):\n",
    "    N = len(a)\n",
    "    f=np.zeros(N+1)\n",
    "    f[1:N] = a[0:N-1]\n",
    "    f[0] = a[-1]\n",
    "    f[-1] = f[0]\n",
    "    return f\n",
    "\n",
    "tmax = 2.\n",
    "dt = 0.0001\n",
    "t = 0.\n",
    "phi = np.zeros(N)\n",
    "phi = exact_solution(0.)\n",
    "alpha = dt/dx\n",
    "dt_frame = 0.01\n",
    "Nframes = np.int(tmax/dt_frame) + 1\n",
    "phiframe = np.zeros((N,Nframes))\n",
    "dtf = 0.\n",
    "iframe = 0\n",
    "phiframe[:,iframe] = np.copy(phi)\n",
    "print(tmax,dt)\n",
    "while t < tmax:\n",
    "    t += dt\n",
    "    f = interpolate_central_1st(phi)\n",
    "    phi -= alpha*(f[1:N+1]-f[0:N])\n",
    "    dtf += dt\n",
    "    if dtf >= dt_frame:\n",
    "        iframe += 1\n",
    "        dtf = 0\n",
    "        phiframe[:,iframe] = np.copy(phi)\n",
    "    \n",
    "if iframe < Nframes:\n",
    "    phiframe[:,Nframes-1] = np.copy(phi)\n",
    "# plt.plot(x_phi,phi)\n",
    "\n",
    "def animate(i):\n",
    "    global dt\n",
    "    line.set_data(x_phi, phiframe[:,i])\n",
    "    return (line,)"
   ]
  },
  {
   "cell_type": "code",
   "execution_count": null,
   "metadata": {
    "collapsed": false
   },
   "outputs": [],
   "source": [
    "from JSAnimation.IPython_display import display_animation\n",
    "from matplotlib import animation\n",
    "anim = animation.FuncAnimation(fig, animate, init_func=init,\n",
    "                               frames=Nframes, interval=20, blit=True)\n",
    "\n",
    "# call our new function to display the animation\n",
    "display_animation(anim)"
   ]
  },
  {
   "cell_type": "code",
   "execution_count": null,
   "metadata": {
    "collapsed": false
   },
   "outputs": [],
   "source": [
    "plt.plot(x_phi,phi)\n",
    "plt.plot(x_phi,exact_solution(tmax), '--')\n",
    "phi_1st = np.copy(phi)"
   ]
  },
  {
   "cell_type": "code",
   "execution_count": null,
   "metadata": {
    "collapsed": true
   },
   "outputs": [],
   "source": [
    "\n"
   ]
  },
  {
   "cell_type": "code",
   "execution_count": null,
   "metadata": {
    "collapsed": false
   },
   "outputs": [],
   "source": []
  },
  {
   "cell_type": "code",
   "execution_count": null,
   "metadata": {
    "collapsed": true
   },
   "outputs": [],
   "source": []
  }
 ],
 "metadata": {
  "kernelspec": {
   "display_name": "Python 3",
   "language": "python",
   "name": "python3"
  },
  "language_info": {
   "codemirror_mode": {
    "name": "ipython",
    "version": 3
   },
   "file_extension": ".py",
   "mimetype": "text/x-python",
   "name": "python",
   "nbconvert_exporter": "python",
   "pygments_lexer": "ipython3",
   "version": "3.6.0"
  }
 },
 "nbformat": 4,
 "nbformat_minor": 2
}
